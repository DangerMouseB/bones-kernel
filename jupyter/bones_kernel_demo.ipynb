{
 "cells": [
  {
   "cell_type": "code",
   "execution_count": 8,
   "metadata": {},
   "outputs": [],
   "source": [
    "%%python\n",
    "from coppertop import *\n",
    "\"/Users/david/shared/repos/github/DangerMouseB/bones/python\" >> EnsurePath\n",
    "\"bones\" >> Unload\n",
    "from bones.coppertop import *\n",
    "from bones.combinators import MatchAtomicTag, MatchTagClass, MatchTagInstance, parseUsing, getAst\n",
    "from bones.basic_parsers import *\n",
    "from bones.interpreter import BonesResult\n",
    "from bones.pragmatics.symbols import SymRegister"
   ]
  },
  {
   "cell_type": "markdown",
   "metadata": {},
   "source": [
    "### Combinator cheat sheet\n",
    "```\n",
    "a >> f - if matches a return f(a) i.e. postProcess\n",
    "a // b - list of a seperated by b\n",
    "~a     - zero or one a\n",
    "+a     - zero or more a\n",
    "a + b  - a then b\n",
    "a | b  - a or b\n",
    "```"
   ]
  },
  {
   "cell_type": "code",
   "execution_count": 9,
   "metadata": {},
   "outputs": [
    {
     "name": "stdout",
     "output_type": "stream",
     "text": [
      "(({L_PAREN}, 314), {R_PAREN}) --- <( <l_paren> then <integer> then <r_paren> )>\n",
      "NoMatch(matchedSoFar=({L_PAREN}, 314) --- <( <l_paren> then <integer> )>)\n",
      "NoMatch(matchedSoFar=None)\n"
     ]
    }
   ],
   "source": [
    "%%python\n",
    "catcher = l_paren + integer + r_paren\n",
    "'(314)' >> parseUsing(..., catcher, None, SymRegister()) >> PP\n",
    "'(314' >> parseUsing(..., catcher, None, SymRegister()) >> PP\n",
    "'314)' >> parseUsing(..., catcher, None, SymRegister())"
   ]
  },
  {
   "cell_type": "code",
   "execution_count": 10,
   "metadata": {},
   "outputs": [
    {
     "name": "stdout",
     "output_type": "stream",
     "text": [
      "((2, '+', 3), '*', 4) --- < <integer> sep_by <[ <plus_binop_src> or <star_binop_src> ]> >\n",
      "(2, '+', (3, '*', 4)) --- < < <integer> sep_by <star_binop_src> > sep_by <plus_binop_src> >\n",
      "(3, '+', 4) --- < < <integer> sep_by <star_binop_src> > sep_by <plus_binop_src> >\n",
      "(3, '*', 4) --- < < <integer> sep_by <star_binop_src> > sep_by <plus_binop_src> >\n",
      "3 --- < < <integer> sep_by <star_binop_src> > sep_by <plus_binop_src> >\n"
     ]
    }
   ],
   "source": [
    "%%python\n",
    "\n",
    "catcher = integer // (plus_binop_src | star_binop_src)   # No precedence\n",
    "parse = parseUsing(..., catcher, None, SymRegister())\n",
    "src = '2 + 3 * 4'\n",
    "expected = ((2, '+', 3), '*', 4)\n",
    "ast = src >> parse >> PP\n",
    "ast >> getAst >> AssertEqual >> expected\n",
    "\n",
    "\n",
    "catcher = integer // star_binop_src // plus_binop_src   # with precedence * over +\n",
    "parse = parseUsing(..., catcher, None, SymRegister())\n",
    "src = '2 + 3 * 4'\n",
    "expected = (2, '+', (3, '*', 4))\n",
    "ast = src >> parse >> PP\n",
    "ast >> getAst >> AssertEqual >> expected;\n",
    "\n",
    "'3 + 4' >> parse >> PP\n",
    "'3 * 4' >> parse >> PP\n",
    "'3' >> parse >> PP;"
   ]
  },
  {
   "cell_type": "code",
   "execution_count": 11,
   "metadata": {},
   "outputs": [
    {
     "name": "stdout",
     "output_type": "stream",
     "text": [
      "Absent:<integer> --- <opt:<integer>>\n"
     ]
    }
   ],
   "source": [
    "%%python\n",
    "parse = parseUsing(..., +integer, None, SymRegister())\n",
    "'' >> parse >> getAst >> AssertEqual >> []\n",
    "'1' >> parse >> getAst >> AssertEqual >> [1]\n",
    "'1 2' >> parse >> getAst >> AssertEqual >> [1, 2]\n",
    "\n",
    "parse = parseUsing(..., ~integer, None, SymRegister())\n",
    "'' >> parse"
   ]
  },
  {
   "cell_type": "markdown",
   "metadata": {},
   "source": [
    "### Adding the handler to the kernel "
   ]
  },
  {
   "cell_type": "code",
   "execution_count": 12,
   "metadata": {},
   "outputs": [],
   "source": [
    "%%python\n",
    "def execute(src, kernel):\n",
    "    # hello {fred, joe, sally}\n",
    "    src = src.strip()\n",
    "    if src[0:1] == '\"':\n",
    "        # handle \"David\" :me\n",
    "        raise NotImplementedError(\"literal strings not handled yet\")\n",
    "    elif src[0:1] == 'h':\n",
    "        try:\n",
    "            assert src[0:6] == \"hello \", \"not hello\"\n",
    "            assert src[6:].strip() in ['fred', 'joe', 'sally'], \"not fred, joe nor sally\"\n",
    "            return kernel.OK, [src[6:].strip() + ' says \"Hello\"']\n",
    "        except AssertionError as ex:\n",
    "            return kernel.ERROR, [ex.args[0]]\n",
    "    return kernel.ERROR, ['Unkown syntax']\n"
   ]
  },
  {
   "cell_type": "code",
   "execution_count": 13,
   "metadata": {},
   "outputs": [],
   "source": [
    "%%python\n",
    "catcher = integer // star_binop_src // plus_binop_src    # with precedence * over +\n",
    "parse = parseUsing(..., catcher, None, SymRegister())\n",
    "\n",
    "class BonesHandler(object):\n",
    "    def parse(self, src, kernel):\n",
    "        return kernel.OK, [src >> parse]\n",
    "\n",
    "handler = BonesHandler()\n",
    "handler.execute = execute\n",
    "_kernel.handlers['bones'] = handler\n",
    "_kernel.defaultHandler = 'bones'"
   ]
  },
  {
   "cell_type": "markdown",
   "metadata": {},
   "source": [
    "### Inspecting the parse result"
   ]
  },
  {
   "cell_type": "code",
   "execution_count": 14,
   "metadata": {},
   "outputs": [
    {
     "name": "stdout",
     "output_type": "stream",
     "text": [
      "[1] %%parse\n",
      "(2, '+', (3, '*', 4)) --- < < <integer> sep_by <star_binop_src> > sep_by <plus_binop_src> >\n",
      "[2] %%execute\n",
      "sally says \"Hello\"\n"
     ]
    }
   ],
   "source": [
    "%%parse\n",
    "2 + 3 * 4\n",
    "\n",
    "%%execute\n",
    "hello sally"
   ]
  },
  {
   "cell_type": "markdown",
   "metadata": {},
   "source": [
    "### Execution"
   ]
  },
  {
   "cell_type": "code",
   "execution_count": 15,
   "metadata": {},
   "outputs": [
    {
     "name": "stderr",
     "output_type": "stream",
     "text": [
      "not fred, joe nor sally\n"
     ]
    }
   ],
   "source": [
    "hello \n",
    "   freds,\n",
    "   joes,"
   ]
  },
  {
   "cell_type": "code",
   "execution_count": 16,
   "metadata": {},
   "outputs": [
    {
     "name": "stdout",
     "output_type": "stream",
     "text": [
      "\n"
     ]
    },
    {
     "name": "stderr",
     "output_type": "stream",
     "text": [
      "Traceback (most recent call last):\n",
      "  File \"/Users/david/shared/repos/github/DangerMouseB/bones_kernel/bones_kernel/kernel.py\", line 258, in do_execute\n",
      "    outcome, values = handlerFn(arg, self._sharedKernel)\n",
      "  File \"2:15\", line 7, in execute\n",
      "NotImplementedError: literal strings not handled yet\n"
     ]
    }
   ],
   "source": [
    "\"\""
   ]
  },
  {
   "cell_type": "code",
   "execution_count": 17,
   "metadata": {},
   "outputs": [
    {
     "name": "stderr",
     "output_type": "stream",
     "text": [
      "Unkown syntax\n"
     ]
    }
   ],
   "source": [
    "ugh"
   ]
  },
  {
   "cell_type": "code",
   "execution_count": 18,
   "metadata": {},
   "outputs": [
    {
     "name": "stdout",
     "output_type": "stream",
     "text": [
      "sally says \"Hello\"\n"
     ]
    }
   ],
   "source": [
    "hello sally"
   ]
  },
  {
   "cell_type": "code",
   "execution_count": 19,
   "metadata": {},
   "outputs": [
    {
     "name": "stderr",
     "output_type": "stream",
     "text": [
      "Unkown syntax\n"
     ]
    }
   ],
   "source": [
    "fred"
   ]
  },
  {
   "cell_type": "code",
   "execution_count": 20,
   "metadata": {},
   "outputs": [
    {
     "name": "stderr",
     "output_type": "stream",
     "text": [
      "Unkown syntax\n"
     ]
    }
   ],
   "source": [
    "1+1"
   ]
  }
 ],
 "metadata": {
  "kernelspec": {
   "display_name": "bones",
   "language": "bones",
   "name": "bones"
  },
  "language_info": {
   "mimetype": "text/plain",
   "name": "multi_kernel"
  }
 },
 "nbformat": 4,
 "nbformat_minor": 2
}
